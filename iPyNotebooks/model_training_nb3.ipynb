{
 "cells": [
  {
   "cell_type": "code",
   "execution_count": null,
   "id": "6aa11869",
   "metadata": {},
   "outputs": [],
   "source": [
    "import os\n",
    "from pathlib import Path\n",
    "from dataclasses import dataclass\n",
    "\n",
    "@dataclass(frozen=True)\n",
    "class TrainingConfig:\n",
    "    root_dir: Path\n",
    "    trained_model_path: Path\n",
    "    updated_base_model_path: Path\n",
    "    training_data: Path\n",
    "    params_epochs: int\n",
    "    params_learning_rate: float\n",
    "    params_batch_size: int\n",
    "    params_is_augmentation: bool\n",
    "    params_image_size: list"
   ]
  },
  {
   "cell_type": "code",
   "execution_count": 3,
   "id": "cfedd265",
   "metadata": {},
   "outputs": [],
   "source": [
    "os.chdir('../')"
   ]
  },
  {
   "cell_type": "code",
   "execution_count": 6,
   "id": "3e2a6713",
   "metadata": {},
   "outputs": [
    {
     "name": "stderr",
     "output_type": "stream",
     "text": [
      "2025-07-09 12:33:11.259167: I external/local_xla/xla/tsl/cuda/cudart_stub.cc:32] Could not find cuda drivers on your machine, GPU will not be used.\n",
      "2025-07-09 12:33:11.413044: I external/local_xla/xla/tsl/cuda/cudart_stub.cc:32] Could not find cuda drivers on your machine, GPU will not be used.\n",
      "2025-07-09 12:33:11.528418: E external/local_xla/xla/stream_executor/cuda/cuda_fft.cc:477] Unable to register cuFFT factory: Attempting to register factory for plugin cuFFT when one has already been registered\n",
      "WARNING: All log messages before absl::InitializeLog() is called are written to STDERR\n",
      "E0000 00:00:1752044591.600829   70170 cuda_dnn.cc:8310] Unable to register cuDNN factory: Attempting to register factory for plugin cuDNN when one has already been registered\n",
      "E0000 00:00:1752044591.622490   70170 cuda_blas.cc:1418] Unable to register cuBLAS factory: Attempting to register factory for plugin cuBLAS when one has already been registered\n",
      "2025-07-09 12:33:11.788293: I tensorflow/core/platform/cpu_feature_guard.cc:210] This TensorFlow binary is optimized to use available CPU instructions in performance-critical operations.\n",
      "To enable the following instructions: AVX2 FMA, in other operations, rebuild TensorFlow with the appropriate compiler flags.\n"
     ]
    }
   ],
   "source": [
    "from CNN_Classifier.constants import *\n",
    "from CNN_Classifier.utils.common import read_yaml, create_directories\n",
    "import tensorflow as tf\n",
    "# if not tf.executing_eagerly():\n",
    "#     tf.config.run_functions_eagerly(True)"
   ]
  },
  {
   "cell_type": "code",
   "execution_count": 7,
   "id": "74707d74",
   "metadata": {},
   "outputs": [],
   "source": [
    "tf.compat.v1.enable_eager_execution()"
   ]
  },
  {
   "cell_type": "code",
   "execution_count": null,
   "id": "1a93770e",
   "metadata": {},
   "outputs": [],
   "source": [
    "class ConfigurationManager:\n",
    "    def __init__(\n",
    "        self, config_filepath = CONFIG_FILE_PATH,\n",
    "        params_filepath = PARAMS_FILE_PATH\n",
    "        ):\n",
    "        \n",
    "        self.config = read_yaml(config_filepath)\n",
    "        self.params = read_yaml(params_filepath)\n",
    "        \n",
    "        create_directories([self.config.artifacts_root])\n",
    "        \n",
    "        \n",
    "    def get_training_config(self) -> TrainingConfig:\n",
    "        training = self.config.training\n",
    "        prepare_base_model = self.config.prepare_base_model\n",
    "        params = self.params\n",
    "        training_data = os.path.join(self.config.data_ingestion.unzip_dir, \"kidney-ct-scan-image\")\n",
    "        create_directories([Path(training.root_dir)])\n",
    "        \n",
    "        training_config = TrainingConfig(\n",
    "            root_dir=Path(training.root_dir),\n",
    "            trained_model_path=Path(training.trained_model_path),\n",
    "            updated_base_model_path=Path(prepare_base_model.updated_base_model_path),\n",
    "            training_data=Path(training_data),\n",
    "            params_epochs=params.EPOCHS,\n",
    "            params_learning_rate = params.LEARNING_RATE,\n",
    "            params_batch_size=params.BATCH_SIZE,\n",
    "            params_is_augmentation=params.AUGMENTATION,\n",
    "            params_image_size=params.IMAGE_SIZE\n",
    "        )\n",
    "\n",
    "        return training_config"
   ]
  },
  {
   "cell_type": "code",
   "execution_count": 9,
   "id": "40e9c9ea",
   "metadata": {},
   "outputs": [],
   "source": [
    "import urllib.request as request\n",
    "from zipfile import ZipFile\n",
    "import time"
   ]
  },
  {
   "cell_type": "code",
   "execution_count": null,
   "id": "53f3a8c5",
   "metadata": {},
   "outputs": [],
   "source": [
    "class Training:\n",
    "    def __init__(self, config: TrainingConfig):\n",
    "        self.config = config\n",
    "\n",
    "    \n",
    "    def get_base_model(self):\n",
    "        self.model = tf.keras.models.load_model(\n",
    "            self.config.updated_base_model_path,\n",
    "            compile=False\n",
    "        )\n",
    "        \n",
    "        # Loaded with compile=False, and then recompiled below to AVOID GRAPH MODE and loading the\n",
    "        # saved model in Eager Mode only, so as to avoid numpy related conflicts\n",
    "        self.model.compile(\n",
    "            optimizer=tf.keras.optimizers.SGD(learning_rate=self.config.params.LEARNING_RATE,\n",
    "            loss=tf.keras.losses.SparseCategoricalCrossentropy(),\n",
    "            metrics=['accuracy']\n",
    "        )\n",
    "        \n",
    "\n",
    "    def train_valid_generator(self):\n",
    "        image_size = tuple(self.config.params_image_size[:-1])  # (height, width)\n",
    "        batch_size = self.config.params_batch_size\n",
    "\n",
    "        # Load datasets using the newer, eager-compatible API\n",
    "        self.train_generator = tf.keras.utils.image_dataset_from_directory(\n",
    "            directory=self.config.training_data,\n",
    "            validation_split=0.2,\n",
    "            subset=\"training\",\n",
    "            seed=123,\n",
    "            image_size=image_size,\n",
    "            batch_size=batch_size\n",
    "        )\n",
    "\n",
    "        self.valid_generator = tf.keras.utils.image_dataset_from_directory(\n",
    "            directory=self.config.training_data,\n",
    "            validation_split=0.2,\n",
    "            subset=\"validation\",\n",
    "            seed=123,\n",
    "            image_size=image_size,\n",
    "            batch_size=batch_size\n",
    "        )\n",
    "\n",
    "        # Normalization layer (rescale pixel values from [0, 255] to [0, 1])\n",
    "        normalization_layer = tf.keras.layers.Rescaling(1./255)\n",
    "\n",
    "        self.train_generator = self.train_generator.map(lambda x, y: (normalization_layer(x), y))\n",
    "        self.valid_generator = self.valid_generator.map(lambda x, y: (normalization_layer(x), y))\n",
    "\n",
    "        # Optional augmentation if enabled\n",
    "        if self.config.params_is_augmentation:\n",
    "            augmentation = tf.keras.Sequential([\n",
    "                tf.keras.layers.RandomFlip(\"horizontal\"),\n",
    "                tf.keras.layers.RandomRotation(0.1),\n",
    "                tf.keras.layers.RandomZoom(0.2),\n",
    "                tf.keras.layers.RandomTranslation(0.1, 0.1),\n",
    "            ])\n",
    "            self.train_generator = self.train_generator.map(lambda x, y: (augmentation(x), y))\n",
    "\n",
    "        # Performance optimization\n",
    "        AUTOTUNE = tf.data.AUTOTUNE\n",
    "        self.train_generator = self.train_generator.prefetch(buffer_size=AUTOTUNE)\n",
    "        self.valid_generator = self.valid_generator.prefetch(buffer_size=AUTOTUNE)\n",
    "\n",
    "\n",
    "    \n",
    "    @staticmethod\n",
    "    def save_model(path: Path, model: tf.keras.Model):\n",
    "        model.save(path)\n",
    "\n",
    "    \n",
    "    def train(self):\n",
    "        self.model.fit(\n",
    "            self.train_generator,\n",
    "            epochs=self.config.params_epochs,\n",
    "            validation_data=self.valid_generator\n",
    "        )\n",
    "\n",
    "        self.save_model(\n",
    "            path=self.config.trained_model_path,\n",
    "            model=self.model\n",
    "        )  "
   ]
  },
  {
   "cell_type": "code",
   "execution_count": 15,
   "id": "5996c5b0",
   "metadata": {},
   "outputs": [
    {
     "name": "stdout",
     "output_type": "stream",
     "text": [
      "[2025-07-09 12:50:08,300: INFO: common: yaml file: config/config.yaml loaded successfully]\n",
      "[2025-07-09 12:50:08,306: INFO: common: yaml file: params.yaml loaded successfully]\n",
      "[2025-07-09 12:50:08,308: INFO: common: created directory at: artifacts]\n",
      "[2025-07-09 12:50:08,309: INFO: common: created directory at: artifacts/training]\n",
      "Found 465 files belonging to 2 classes.\n",
      "Using 372 files for training.\n",
      "Found 465 files belonging to 2 classes.\n",
      "Using 93 files for validation.\n",
      "Eager execution is (before model.fit): True\n",
      "\n",
      "\n"
     ]
    },
    {
     "name": "stderr",
     "output_type": "stream",
     "text": [
      "2025-07-09 12:50:10.834025: W external/local_xla/xla/tsl/framework/cpu_allocator_impl.cc:83] Allocation of 205520896 exceeds 10% of free system memory.\n",
      "2025-07-09 12:50:11.315413: W external/local_xla/xla/tsl/framework/cpu_allocator_impl.cc:83] Allocation of 205520896 exceeds 10% of free system memory.\n",
      "2025-07-09 12:50:12.085282: W external/local_xla/xla/tsl/framework/cpu_allocator_impl.cc:83] Allocation of 51380224 exceeds 10% of free system memory.\n",
      "2025-07-09 12:50:12.140144: W external/local_xla/xla/tsl/framework/cpu_allocator_impl.cc:83] Allocation of 102760448 exceeds 10% of free system memory.\n",
      "2025-07-09 12:50:12.398442: W external/local_xla/xla/tsl/framework/cpu_allocator_impl.cc:83] Allocation of 102760448 exceeds 10% of free system memory.\n"
     ]
    },
    {
     "name": "stdout",
     "output_type": "stream",
     "text": [
      "\u001b[1m24/24\u001b[0m \u001b[32m━━━━━━━━━━━━━━━━━━━━\u001b[0m\u001b[37m\u001b[0m \u001b[1m146s\u001b[0m 6s/step - accuracy: 0.5837 - loss: 10.4205 - val_accuracy: 0.4946 - val_loss: 24.4841\n",
      "[2025-07-09 12:52:35,202: WARNING: saving_api: You are saving your model as an HDF5 file via `model.save()` or `keras.saving.save_model(model)`. This file format is considered legacy. We recommend using instead the native Keras format, e.g. `model.save('my_model.keras')` or `keras.saving.save_model(model, 'my_model.keras')`. ]\n"
     ]
    }
   ],
   "source": [
    "try:\n",
    "    config = ConfigurationManager()\n",
    "    training_config = config.get_training_config()\n",
    "    training = Training(config=training_config)\n",
    "    training.get_base_model()\n",
    "    training.train_valid_generator()\n",
    "    training.train()\n",
    "    \n",
    "except Exception as e:\n",
    "    raise e"
   ]
  },
  {
   "cell_type": "code",
   "execution_count": null,
   "id": "c65fc831",
   "metadata": {},
   "outputs": [],
   "source": []
  }
 ],
 "metadata": {
  "kernelspec": {
   "display_name": ".venv",
   "language": "python",
   "name": "python3"
  },
  "language_info": {
   "codemirror_mode": {
    "name": "ipython",
    "version": 3
   },
   "file_extension": ".py",
   "mimetype": "text/x-python",
   "name": "python",
   "nbconvert_exporter": "python",
   "pygments_lexer": "ipython3",
   "version": "3.11.11"
  }
 },
 "nbformat": 4,
 "nbformat_minor": 5
}
